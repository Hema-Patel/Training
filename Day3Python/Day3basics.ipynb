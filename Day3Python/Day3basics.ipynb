{
 "cells": [
  {
   "cell_type": "code",
   "execution_count": 3,
   "id": "ca5662cb-6e6e-4784-851c-c9841877eccc",
   "metadata": {},
   "outputs": [
    {
     "name": "stdout",
     "output_type": "stream",
     "text": [
      "Hello World\n"
     ]
    }
   ],
   "source": [
    "##Simple Python Program\n",
    "print(\"Hello World\")"
   ]
  },
  {
   "cell_type": "code",
   "execution_count": 7,
   "id": "f0d29d53-4f89-4045-8e39-ca40df9c5439",
   "metadata": {},
   "outputs": [
    {
     "data": {
      "text/plain": [
       "int"
      ]
     },
     "execution_count": 7,
     "metadata": {},
     "output_type": "execute_result"
    }
   ],
   "source": [
    "##Variables\n",
    "num1=12\n",
    "type(num1)"
   ]
  },
  {
   "cell_type": "code",
   "execution_count": 8,
   "id": "ac8583cd-ad14-4cfd-89be-0f8b815b63d5",
   "metadata": {},
   "outputs": [
    {
     "name": "stdout",
     "output_type": "stream",
     "text": [
      "value: 12\n",
      "value 2 20.89\n",
      "value 3: Mind Sprint\n"
     ]
    }
   ],
   "source": [
    "#Variables\n",
    "bun1=10\n",
    "num2=20.89\n",
    "name=\"Mind Sprint\"\n",
    "print(\"value:\",num1)\n",
    "print(f\"value 2 {num2}\") # Use Curly braces for float type\n",
    "print(\"value 3:\",name)"
   ]
  },
  {
   "cell_type": "code",
   "execution_count": 12,
   "id": "351057eb-4b2b-47e9-9398-b5fa1afda470",
   "metadata": {},
   "outputs": [
    {
     "data": {
      "text/plain": [
       "str"
      ]
     },
     "execution_count": 12,
     "metadata": {},
     "output_type": "execute_result"
    }
   ],
   "source": [
    "x,y,z,a=\"red\",\"green\",\"blue\",\"white\"\n",
    "type(x)"
   ]
  },
  {
   "cell_type": "code",
   "execution_count": 14,
   "id": "ccaef309-fa58-48b1-91c5-f977ecbd0ef1",
   "metadata": {},
   "outputs": [
    {
     "name": "stdout",
     "output_type": "stream",
     "text": [
      "red green blue white\n"
     ]
    }
   ],
   "source": [
    "x,y,z,a=\"red\",\"green\",\"blue\",\"white\"\n",
    "print(x,y,z,a)"
   ]
  },
  {
   "cell_type": "code",
   "execution_count": 15,
   "id": "2727aa89-6424-4b4a-a2b4-7a6ccd35de81",
   "metadata": {},
   "outputs": [
    {
     "name": "stdout",
     "output_type": "stream",
     "text": [
      "red green blue white\n",
      "temp temp temp\n"
     ]
    }
   ],
   "source": [
    "x,y,z,a=\"red\",\"green\",\"blue\",\"white\"\n",
    "print(x,y,z,a)\n",
    "#Assign same value to multiple variables\n",
    "p=q=r=\"temp\"\n",
    "print(p,r,q)"
   ]
  },
  {
   "cell_type": "code",
   "execution_count": 16,
   "id": "9927a627-f578-4c52-b00b-3725e4841d9b",
   "metadata": {},
   "outputs": [
    {
     "name": "stdout",
     "output_type": "stream",
     "text": [
      "<class 'str'>\n"
     ]
    }
   ],
   "source": [
    "print(type(p))"
   ]
  },
  {
   "cell_type": "code",
   "execution_count": 17,
   "id": "ecafdb04-0f43-48ac-a9f4-30f40bdac08b",
   "metadata": {},
   "outputs": [
    {
     "name": "stdout",
     "output_type": "stream",
     "text": [
      "50\n",
      "10\n",
      "600\n",
      "1.5\n",
      "1\n"
     ]
    }
   ],
   "source": [
    "a=30\n",
    "b=20\n",
    "print(a+b)\n",
    "print(a-b)\n",
    "print(a*b)\n",
    "print(a/b)\n",
    "print(a//b)"
   ]
  },
  {
   "cell_type": "code",
   "execution_count": 20,
   "id": "7deb8d79-54de-4489-9532-48d31b799fc9",
   "metadata": {},
   "outputs": [
    {
     "name": "stdin",
     "output_type": "stream",
     "text": [
      "enter value of a: 5\n",
      "enter value of b: 6\n"
     ]
    },
    {
     "name": "stdout",
     "output_type": "stream",
     "text": [
      "11\n",
      "-1\n",
      "30\n",
      "0.8333333333333334\n",
      "0\n",
      "15625\n"
     ]
    }
   ],
   "source": [
    "a=input(\"enter value of a:\")\n",
    "b=input(\"enter value of b:\")\n",
    "print(int(a)+int(b))\n",
    "print(int(a)-int(b))\n",
    "print(int(a)*int(b))\n",
    "print(int(a)/int(b))\n",
    "print(int(a)//int(b))\n",
    "print(int(a)**int(b))"
   ]
  },
  {
   "cell_type": "code",
   "execution_count": 22,
   "id": "3503dc67-545b-4fad-b514-5f70195b1c8d",
   "metadata": {},
   "outputs": [
    {
     "name": "stdout",
     "output_type": "stream",
     "text": [
      "is a equal to b?: False\n",
      "is a equal to b?: True\n",
      "is a equal to b?: False\n",
      "is a equal to b?: True\n",
      "is a equal to b?: False\n",
      "is a equal to b?: True\n"
     ]
    }
   ],
   "source": [
    "print(\"is a equal to b?:\",a==b)\n",
    "print(\"is a equal to b?:\",a!=b)\n",
    "print(\"is a equal to b?:\",a>=b)\n",
    "print(\"is a equal to b?:\",a<=b)\n",
    "print(\"is a equal to b?:\",a>b)\n",
    "print(\"is a equal to b?:\",a<b)"
   ]
  },
  {
   "cell_type": "code",
   "execution_count": 26,
   "id": "ce2ec905-3bc0-4734-84b7-7efeab6327cb",
   "metadata": {},
   "outputs": [
    {
     "name": "stdout",
     "output_type": "stream",
     "text": [
      "25\n"
     ]
    }
   ],
   "source": [
    "a=5\n",
    "b=5\n",
    "c=a*b\n",
    "print(c)"
   ]
  },
  {
   "cell_type": "code",
   "execution_count": 29,
   "id": "99fc8f88-f8d6-4b92-b29e-6ef5d8ed6230",
   "metadata": {},
   "outputs": [
    {
     "name": "stdout",
     "output_type": "stream",
     "text": [
      "15\n",
      "10\n",
      "50\n",
      "312500000\n",
      "62500000.0\n",
      "12500000.0\n",
      "0.0\n"
     ]
    }
   ],
   "source": [
    "a=10\n",
    "a+=5\n",
    "print(a)\n",
    "a-=5\n",
    "print(a)\n",
    "a*=5\n",
    "print(a)\n",
    "a**=5\n",
    "print(a)\n",
    "a/=5\n",
    "print(a)\n",
    "a//=5\n",
    "print(a)\n",
    "a%=5\n",
    "print(a)"
   ]
  },
  {
   "cell_type": "code",
   "execution_count": 31,
   "id": "fc79d57b-50f8-4ea6-9bdb-38aad981e8a6",
   "metadata": {},
   "outputs": [
    {
     "name": "stdin",
     "output_type": "stream",
     "text": [
      "enter your email admin2gmail.com\n",
      "enter your password admin1234\n"
     ]
    },
    {
     "name": "stdout",
     "output_type": "stream",
     "text": [
      "True\n"
     ]
    }
   ],
   "source": [
    "# name=input(\"enter your name:\")\n",
    "email=input(\"enter your email\")\n",
    "password=input(\"enter your password\")\n",
    "print(email=='admin2gmail.com' and password=='admin1234')"
   ]
  },
  {
   "cell_type": "code",
   "execution_count": 34,
   "id": "87b26db1-f56b-488e-a161-eb68c7b1ce8a",
   "metadata": {},
   "outputs": [
    {
     "name": "stdin",
     "output_type": "stream",
     "text": [
      "enter n value 0\n"
     ]
    },
    {
     "name": "stdout",
     "output_type": "stream",
     "text": [
      "0\n"
     ]
    }
   ],
   "source": [
    "n=int(input(\"enter n value\"))\n",
    "if n==0:\n",
    "    print(n)"
   ]
  },
  {
   "cell_type": "code",
   "execution_count": 35,
   "id": "76660eb8-7a08-46e2-8f71-021324f085ee",
   "metadata": {},
   "outputs": [
    {
     "name": "stdout",
     "output_type": "stream",
     "text": [
      "negative\n"
     ]
    }
   ],
   "source": [
    "n=-5\n",
    "if n>0:\n",
    "    print(\"positive\")\n",
    "else:\n",
    "    print(\"negative\")"
   ]
  },
  {
   "cell_type": "code",
   "execution_count": 36,
   "id": "f869f8e8-8bfd-497b-9d07-dff0916082e6",
   "metadata": {},
   "outputs": [
    {
     "name": "stdout",
     "output_type": "stream",
     "text": [
      "positive\n"
     ]
    }
   ],
   "source": [
    "a=5\n",
    "if a>0:\n",
    "    print(\"positive\")\n",
    "elif n==0:\n",
    "    print(\"zero\")\n",
    "else:\n",
    "    print(\"negative\")"
   ]
  },
  {
   "cell_type": "code",
   "execution_count": 37,
   "id": "cba865f3-e24c-401e-b2dc-ab1cc134b994",
   "metadata": {},
   "outputs": [
    {
     "name": "stdout",
     "output_type": "stream",
     "text": [
      "positive\n"
     ]
    }
   ],
   "source": [
    "n=5\n",
    "print(\"positive\") if n>0 else print(\"negative\")"
   ]
  },
  {
   "cell_type": "code",
   "execution_count": 38,
   "id": "11b3e738-6a9a-475c-9b42-009cb7e1aa04",
   "metadata": {},
   "outputs": [
    {
     "name": "stdout",
     "output_type": "stream",
     "text": [
      "negative\n"
     ]
    }
   ],
   "source": [
    "n=-2\n",
    "result=\"positive\" if n>0 else \"negative\"\n",
    "print(result)"
   ]
  },
  {
   "cell_type": "code",
   "execution_count": 42,
   "id": "14139860-2629-4f40-9006-9a7f445d240f",
   "metadata": {},
   "outputs": [
    {
     "name": "stdout",
     "output_type": "stream",
     "text": [
      "even\n"
     ]
    }
   ],
   "source": [
    "n=1534\n",
    "if n>0:\n",
    "    if n%2==0:\n",
    "        print(\"even\")\n",
    "    else:\n",
    "        print(\"odd\")\n",
    "else:\n",
    "    (\"decimal\")"
   ]
  },
  {
   "cell_type": "code",
   "execution_count": 43,
   "id": "770ef7d1-9a07-4bc4-870f-a3341bff5e0b",
   "metadata": {},
   "outputs": [],
   "source": [
    "n=5\n",
    "if n>0:\n",
    "    pass\n",
    "else:\n",
    "    print(\"won't execute\")"
   ]
  },
  {
   "cell_type": "code",
   "execution_count": 50,
   "id": "25cfa182-5751-44c8-9c96-ca30c24d053f",
   "metadata": {},
   "outputs": [
    {
     "name": "stdin",
     "output_type": "stream",
     "text": [
      "enter your marks 89\n"
     ]
    },
    {
     "name": "stdout",
     "output_type": "stream",
     "text": [
      "grade is B\n"
     ]
    }
   ],
   "source": [
    "marks=int(input(\"enter your marks\"))\n",
    "if marks>=90  or marks==100:\n",
    "    print(\"grade is A\")\n",
    "elif marks>=70 or marks==89:\n",
    "    print(\"grade is B\")\n",
    "elif marks>=50 or marks==69:\n",
    "    print(\"grade is C\")\n",
    "\n",
    "else:\n",
    "    print(\"Sorry Fail\")"
   ]
  },
  {
   "cell_type": "code",
   "execution_count": 59,
   "id": "5e100920-21e6-444e-bff6-86700c80a0f9",
   "metadata": {},
   "outputs": [
    {
     "name": "stdin",
     "output_type": "stream",
     "text": [
      "enter a value 8\n"
     ]
    },
    {
     "name": "stdout",
     "output_type": "stream",
     "text": [
      "positive number\n",
      "even\n"
     ]
    }
   ],
   "source": [
    "n=int(input(\"enter a value\"))\n",
    "if n>0:\n",
    "    print(\"positive number\")\n",
    "    if n%2==0:\n",
    "        print(\"even\")\n",
    "    else:\n",
    "        print(\"odd\")\n",
    "else:\n",
    "    print(\"negative\")\n",
    "    print(\"The number is less than -10?:\",n<-10)"
   ]
  },
  {
   "cell_type": "code",
   "execution_count": 65,
   "id": "3db11d85-ee90-4039-a610-ef9307d78456",
   "metadata": {},
   "outputs": [
    {
     "name": "stdin",
     "output_type": "stream",
     "text": [
      "enter the amount 200\n"
     ]
    },
    {
     "name": "stdout",
     "output_type": "stream",
     "text": [
      "10\n"
     ]
    }
   ],
   "source": [
    "amount=int(input(\"enter the amount\"))\n",
    "\n",
    "discount=amount*n/100\n",
    "if amount>=500:\n",
    "    discount=20\n",
    "    print(discount)\n",
    "elif amount>=200 or amount==500:\n",
    "    discount=10\n",
    "    print(discount)\n",
    "else:\n",
    "    print(\"no discount\")\n",
    "    "
   ]
  },
  {
   "cell_type": "code",
   "execution_count": 66,
   "id": "8c43e5b9-44f9-4109-887d-95a378f01aee",
   "metadata": {},
   "outputs": [
    {
     "name": "stdout",
     "output_type": "stream",
     "text": [
      "count: 1\n",
      "count: 2\n",
      "count: 3\n",
      "count: 4\n",
      "count: 5\n"
     ]
    }
   ],
   "source": [
    "count=1\n",
    "while count<=5:\n",
    "    print(\"count:\",count)\n",
    "    count+=1"
   ]
  },
  {
   "cell_type": "code",
   "execution_count": 67,
   "id": "489cde79-9c07-4aa8-b7bf-53064e6a9bf8",
   "metadata": {},
   "outputs": [
    {
     "name": "stdout",
     "output_type": "stream",
     "text": [
      "number: 1\n",
      "number: 2\n",
      "number: 3\n",
      "number: 4\n",
      "number: 5\n"
     ]
    }
   ],
   "source": [
    "for num in range(1,6):\n",
    "    print(\"number:\",num)"
   ]
  },
  {
   "cell_type": "code",
   "execution_count": 68,
   "id": "f0ff0927-572e-4dce-a4cd-7017dd20bb8c",
   "metadata": {},
   "outputs": [
    {
     "name": "stdout",
     "output_type": "stream",
     "text": [
      "count is 0\n",
      "count is 1\n",
      "count is 2\n",
      "breaking at count= 3\n"
     ]
    }
   ],
   "source": [
    "count=0\n",
    "while count<5:\n",
    "    if count==3:\n",
    "        print(\"breaking at count=\",count)\n",
    "        break\n",
    "    print(\"count is\",count)\n",
    "    count+=1"
   ]
  },
  {
   "cell_type": "code",
   "execution_count": 70,
   "id": "6b69c9d6-6d8e-4b83-a82c-4edddf725457",
   "metadata": {},
   "outputs": [
    {
     "name": "stdout",
     "output_type": "stream",
     "text": [
      "num is 1\n",
      "num is 2\n",
      "num is 3\n",
      "num is 4\n",
      "breaking at number 7\n"
     ]
    }
   ],
   "source": [
    "for num in range(1,11):\n",
    "    if num==5:\n",
    "        print(\"breaking at number\",count)\n",
    "        break\n",
    "    print(\"num is\",num)\n",
    "    "
   ]
  },
  {
   "cell_type": "code",
   "execution_count": 82,
   "id": "cfa45635-6707-4508-a757-a7badbdc41ce",
   "metadata": {},
   "outputs": [
    {
     "name": "stdout",
     "output_type": "stream",
     "text": [
      "hello world\n"
     ]
    }
   ],
   "source": [
    "def hello():\n",
    "    print(\"hello world\")\n",
    "hello()"
   ]
  },
  {
   "cell_type": "code",
   "execution_count": 83,
   "id": "5e6e7c26-0d37-4a6c-8e64-d599378fe634",
   "metadata": {},
   "outputs": [
    {
     "name": "stdout",
     "output_type": "stream",
     "text": [
      "good noon: Hema\n"
     ]
    }
   ],
   "source": [
    "def greet(name):\n",
    "    print(\"good noon:\",name)\n",
    "greet('Hema')"
   ]
  },
  {
   "cell_type": "code",
   "execution_count": 87,
   "id": "c92225a7-f8f8-45d0-90ca-c32693574c52",
   "metadata": {},
   "outputs": [
    {
     "name": "stdout",
     "output_type": "stream",
     "text": [
      "hello,Alice!\n",
      "hello,guest!\n"
     ]
    }
   ],
   "source": [
    "def greet(name=\"guest\"):\n",
    "    print(f\"hello,{name}!\")\n",
    "greet(\"Alice\")\n",
    "greet()"
   ]
  },
  {
   "cell_type": "code",
   "execution_count": 91,
   "id": "7c28e69c-285d-42ee-a5e0-bf5470e7e479",
   "metadata": {},
   "outputs": [
    {
     "name": "stdout",
     "output_type": "stream",
     "text": [
      "6\n"
     ]
    }
   ],
   "source": [
    "def factorial(n):\n",
    "    if n==1:\n",
    "        return 1\n",
    "    else:\n",
    "        return n*factorial(n-1)\n",
    "result=factorial(3)\n",
    "print(result)"
   ]
  },
  {
   "cell_type": "code",
   "execution_count": 96,
   "id": "4cf6f34b-1f6d-48b4-a147-b47dd8781eda",
   "metadata": {},
   "outputs": [
    {
     "name": "stdin",
     "output_type": "stream",
     "text": [
      "enter username admin@gmail.com\n",
      "enter passwd admin1234\n"
     ]
    },
    {
     "name": "stdout",
     "output_type": "stream",
     "text": [
      "logged in\n"
     ]
    }
   ],
   "source": [
    "def login(username,passwd):\n",
    "    if username=='admin@gmail.com' and passwd=='admin1234':\n",
    "        print(\"logged in\")\n",
    "    else:\n",
    "        print(\"invalid\")\n",
    "username=input(\"enter username\")\n",
    "passwd=input(\"enter passwd\")\n",
    "login(username,passwd)"
   ]
  },
  {
   "cell_type": "code",
   "execution_count": 112,
   "id": "2e0e574f-556a-4cba-a58c-9e60dfe07d4c",
   "metadata": {},
   "outputs": [
    {
     "name": "stdout",
     "output_type": "stream",
     "text": [
      "[10, 20, 30, 40]\n",
      "40\n",
      "[10, 20, 30]\n",
      "[10, 20, 30, 40, 60]\n",
      "[10, 20, 25, 30, 40, 60]\n",
      "60\n",
      "5\n",
      "10\n",
      "40\n"
     ]
    }
   ],
   "source": [
    "#list\n",
    "mylist=[10,20,30,40]\n",
    "print(mylist)\n",
    "print(mylist[3])\n",
    "print(mylist[0:3])\n",
    "mylist.append(60)\n",
    "print(mylist)\n",
    "mylist.insert(2,25)\n",
    "print(mylist)\n",
    "print(mylist.pop())\n",
    "print(len(mylist))\n",
    "print(min(mylist))\n",
    "print(max(mylist))\n",
    "\n"
   ]
  },
  {
   "cell_type": "code",
   "execution_count": 114,
   "id": "a0686a47-c51f-4a74-b985-6f04b6e99e47",
   "metadata": {},
   "outputs": [
    {
     "name": "stdout",
     "output_type": "stream",
     "text": [
      "['banana', 'cherry']\n"
     ]
    }
   ],
   "source": [
    "fruits=[\"apple\",\"banana\",\"cherry\",\"dates\"]\n",
    "print(fruits[1:3])"
   ]
  },
  {
   "cell_type": "code",
   "execution_count": 115,
   "id": "dfab56d4-c080-418c-ac4f-1bdf246dd2f1",
   "metadata": {},
   "outputs": [
    {
     "name": "stdout",
     "output_type": "stream",
     "text": [
      "[10, 20, 25, 30, 40, 1, 2, 3, 4]\n"
     ]
    }
   ],
   "source": [
    "mylist.extend([1,2,3,4])\n",
    "print(mylist)\n",
    "mylist[5]=34\n",
    "print(mylist)"
   ]
  },
  {
   "cell_type": "code",
   "execution_count": 123,
   "id": "739d406c-9d5f-44f6-b32d-3b11393e9199",
   "metadata": {},
   "outputs": [
    {
     "name": "stdout",
     "output_type": "stream",
     "text": [
      "[]\n"
     ]
    }
   ],
   "source": [
    "\n",
    "\n",
    "mylist.clear()\n",
    "print(mylist)"
   ]
  },
  {
   "cell_type": "code",
   "execution_count": 124,
   "id": "50ceaf9a-0ed6-4838-884b-d57f8914ca24",
   "metadata": {},
   "outputs": [
    {
     "name": "stdout",
     "output_type": "stream",
     "text": [
      "[1, 2, 3, 4, 5]\n"
     ]
    }
   ],
   "source": [
    "mydata=[1,2,3,4,5]\n",
    "print(mydata)"
   ]
  },
  {
   "cell_type": "code",
   "execution_count": 125,
   "id": "7e72da87-394b-42be-ab50-40ac8f8f2d6f",
   "metadata": {},
   "outputs": [
    {
     "name": "stdout",
     "output_type": "stream",
     "text": [
      "[5, 4, 3, 2, 1]\n"
     ]
    }
   ],
   "source": [
    "mydata.sort(reverse=True)\n",
    "print(mydata)"
   ]
  },
  {
   "cell_type": "code",
   "execution_count": 126,
   "id": "cc5d6ab6-ff85-49e4-8753-c02f50794128",
   "metadata": {},
   "outputs": [
    {
     "name": "stdout",
     "output_type": "stream",
     "text": [
      "[1, 2, 3, 4, 5]\n"
     ]
    }
   ],
   "source": [
    "mydata.reverse()\n",
    "print(mydata)"
   ]
  },
  {
   "cell_type": "code",
   "execution_count": 131,
   "id": "1efcfa3e-a1b4-4f7f-b5d5-4f6804cfdc15",
   "metadata": {},
   "outputs": [
    {
     "name": "stdout",
     "output_type": "stream",
     "text": [
      "[1, 4, 9, 16, 25]\n"
     ]
    }
   ],
   "source": [
    "squares=[X**2 for X in range(1,6)]\n",
    "print(squares)\n",
    "squares.reverse()"
   ]
  },
  {
   "cell_type": "code",
   "execution_count": null,
   "id": "a1462e34-ff5a-4af9-9fe6-01c44b96ebef",
   "metadata": {},
   "outputs": [],
   "source": [
    "todo=[]\n",
    "def add_todo():\n",
    "    task=input(\"enter your task\")\n",
    "    todo.append(task)\n",
    "    print(add_todo)\n",
    "def remove_todo():\n",
    "    task=input(\"enter the task to remove\")\n",
    "    todo.pop()\n",
    "    print(\"removed task\")\n",
    "def get_all_todo():\n",
    "    print(\"todo details\",todo)\n",
    "while True:\n",
    "    inputs=input(\"enter 1 for todo 2 for remove todo and 3 for getall 4 to exit \")\n",
    "    if inputs=='1':\n",
    "        add_todo()\n",
    "    elif inputs=='2':\n",
    "        remove_todo()\n",
    "    elif inputs=='3':\n",
    "        get_all_todo()\n",
    "    else:\n",
    "        print(\"exit\")"
   ]
  },
  {
   "cell_type": "code",
   "execution_count": 2,
   "id": "f50f7ab8-c3a2-4e39-8045-ae02a3c686f2",
   "metadata": {},
   "outputs": [
    {
     "name": "stdout",
     "output_type": "stream",
     "text": [
      "('alex', 'bob', 'caty', 'devid')\n"
     ]
    }
   ],
   "source": [
    "#create tuple\n",
    "names=('alex','bob','caty','devid')\n",
    "print(names)\n"
   ]
  },
  {
   "cell_type": "code",
   "execution_count": 3,
   "id": "fdfd92c7-5e0a-46b3-b1ae-8fbe71a748b9",
   "metadata": {},
   "outputs": [
    {
     "name": "stdout",
     "output_type": "stream",
     "text": [
      "('test', 'True', 6, 78.9, [1, 2, 3, 4])\n"
     ]
    }
   ],
   "source": [
    "mixed=('test','True',6,78.9,[1,2,3,4])\n",
    "print(mixed)"
   ]
  },
  {
   "cell_type": "code",
   "execution_count": 4,
   "id": "45753390-b5bf-4091-9aa6-ab84cff8159a",
   "metadata": {},
   "outputs": [
    {
     "name": "stdout",
     "output_type": "stream",
     "text": [
      "()\n",
      "('hello',)\n",
      "<class 'tuple'>\n"
     ]
    }
   ],
   "source": [
    "empty_tup=()\n",
    "print(empty_tup)\n",
    "data=('hello',)\n",
    "print(data)\n",
    "print(type(data))"
   ]
  },
  {
   "cell_type": "code",
   "execution_count": 5,
   "id": "cbec146c-70cc-415d-aa20-481a7484c3bd",
   "metadata": {},
   "outputs": [
    {
     "name": "stdout",
     "output_type": "stream",
     "text": [
      "(1, 2, 3, 4, 5, 6)\n"
     ]
    }
   ],
   "source": [
    "t1=(1,2,3)\n",
    "t2=(4,5,6)\n",
    "concat=t1+t2\n",
    "print(concat)"
   ]
  },
  {
   "cell_type": "code",
   "execution_count": 7,
   "id": "8484d8f7-cbdd-419d-b831-ad61ee064c41",
   "metadata": {},
   "outputs": [
    {
     "name": "stdout",
     "output_type": "stream",
     "text": [
      "1\n",
      "2\n"
     ]
    }
   ],
   "source": [
    "list=[1,2,4,5,6]\n",
    "print(list.count(3))\n",
    "print(list.index(3))"
   ]
  },
  {
   "cell_type": "code",
   "execution_count": 10,
   "id": "84cc71a5-94f2-4b9b-b692-ce51191ea530",
   "metadata": {},
   "outputs": [
    {
     "name": "stdout",
     "output_type": "stream",
     "text": [
      "id : {'id': 1, 'name': 'alex', 'email': 'alex@gmail.com', 'address': 'us'}\n",
      "name : {'id': 1, 'name': 'alex', 'email': 'alex@gmail.com', 'address': 'us'}\n",
      "email : {'id': 1, 'name': 'alex', 'email': 'alex@gmail.com', 'address': 'us'}\n",
      "address : {'id': 1, 'name': 'alex', 'email': 'alex@gmail.com', 'address': 'us'}\n"
     ]
    }
   ],
   "source": [
    "student={\n",
    "    \"id\":1,\n",
    "    \"name\":\"alex\",\n",
    "    \"email\":\"alex@gmail.com\",\n",
    "    \"address\":\"us\"\n",
    "}\n",
    "for key in student:\n",
    "    print(key,\":\",student)"
   ]
  },
  {
   "cell_type": "code",
   "execution_count": 11,
   "id": "de8df07f-fa71-42b6-85e4-a03090305b71",
   "metadata": {},
   "outputs": [
    {
     "name": "stdout",
     "output_type": "stream",
     "text": [
      "id : 1\n",
      "name : alex\n",
      "email : alex@gmail.com\n",
      "address : us\n"
     ]
    }
   ],
   "source": [
    "for key,value in student.items():\n",
    "    print(key,\":\",value)"
   ]
  },
  {
   "cell_type": "code",
   "execution_count": 12,
   "id": "0d49eaf7-071c-4486-8235-57a6ea2530ed",
   "metadata": {},
   "outputs": [
    {
     "name": "stdout",
     "output_type": "stream",
     "text": [
      "address is present in student object\n"
     ]
    }
   ],
   "source": [
    "if \"address\" in student:\n",
    "    print(\"address is present in student object\")"
   ]
  },
  {
   "cell_type": "code",
   "execution_count": 13,
   "id": "5e3f2355-1543-42fa-b642-720cefb940b6",
   "metadata": {},
   "outputs": [
    {
     "name": "stdout",
     "output_type": "stream",
     "text": [
      "{200, 404}\n"
     ]
    }
   ],
   "source": [
    "myset={404,200}\n",
    "print(myset)"
   ]
  },
  {
   "cell_type": "code",
   "execution_count": 15,
   "id": "e055411e-428f-492f-a583-7c3dbb314867",
   "metadata": {},
   "outputs": [
    {
     "name": "stdout",
     "output_type": "stream",
     "text": [
      "{200, 404, 501}\n"
     ]
    }
   ],
   "source": [
    "myset.add(501)\n",
    "print(myset)"
   ]
  },
  {
   "cell_type": "code",
   "execution_count": 20,
   "id": "2c605eaf-79f1-4c4b-b6b7-dd24e153f68f",
   "metadata": {},
   "outputs": [
    {
     "name": "stdout",
     "output_type": "stream",
     "text": [
      "{3, 4, 5}\n",
      "{3, 4, 5}\n"
     ]
    },
    {
     "data": {
      "text/plain": [
       "<function print(*args, sep=' ', end='\\n', file=None, flush=False)>"
      ]
     },
     "execution_count": 20,
     "metadata": {},
     "output_type": "execute_result"
    }
   ],
   "source": [
    "A={1,2,3,4,5}\n",
    "B={3,4,5,6,7}\n",
    "print(A & B)\n",
    "print(A.intersection(B))"
   ]
  },
  {
   "cell_type": "code",
   "execution_count": 6,
   "id": "89a1df84-6e5f-4bf3-8c45-8cac7384541b",
   "metadata": {},
   "outputs": [
    {
     "name": "stdout",
     "output_type": "stream",
     "text": [
      "Added employee A with 1000\n",
      "updated employee B with 3000\n",
      "employee removed out of list\n"
     ]
    }
   ],
   "source": [
    "employee={\n",
    "    \"A\": 50000,\n",
    "    \"B\": 60000,\n",
    "    \"C\": 70000\n",
    "}\n",
    "def add_employee(name,salary):\n",
    "    employee[name]=salary\n",
    "    print(f\"Added employee {name} with {salary}\")\n",
    "def update_salary(name,salary):\n",
    "    if name in employee:\n",
    "        employee[name]=salary\n",
    "        print(f\"updated employee {name} with {salary}\")\n",
    "    else:\n",
    "        (\"person not in data or list\")\n",
    "def remove_employee(name,salary):\n",
    "    if name in employee:\n",
    "        del employee[name]\n",
    "        print(f\"employee removed out of list\")\n",
    "    else:\n",
    "        print(\"person not in data or list\")\n",
    "add_employee(\"A\",1000)\n",
    "update_salary(\"B\",3000)\n",
    "remove_employee(\"C\",7800)\n"
   ]
  },
  {
   "cell_type": "code",
   "execution_count": null,
   "id": "04d839cf-1aa7-40fc-8d45-2f0bef1c3648",
   "metadata": {},
   "outputs": [],
   "source": []
  },
  {
   "cell_type": "code",
   "execution_count": null,
   "id": "d01a9cef-2618-4aa2-ae9f-46975dd14b32",
   "metadata": {},
   "outputs": [],
   "source": []
  },
  {
   "cell_type": "code",
   "execution_count": null,
   "id": "9efdb0e7-5e7b-48e5-8cc8-db04d5945714",
   "metadata": {},
   "outputs": [],
   "source": []
  },
  {
   "cell_type": "code",
   "execution_count": null,
   "id": "c964cc55-dd49-4730-bdea-34489f087ca6",
   "metadata": {},
   "outputs": [],
   "source": []
  },
  {
   "cell_type": "code",
   "execution_count": null,
   "id": "b04befab-6cfb-453f-b752-8b4977157eee",
   "metadata": {},
   "outputs": [],
   "source": []
  },
  {
   "cell_type": "code",
   "execution_count": null,
   "id": "9347f13e-5663-4d4c-a46e-9430c0a23426",
   "metadata": {},
   "outputs": [],
   "source": []
  }
 ],
 "metadata": {
  "kernelspec": {
   "display_name": "Python 3 (ipykernel)",
   "language": "python",
   "name": "python3"
  },
  "language_info": {
   "codemirror_mode": {
    "name": "ipython",
    "version": 3
   },
   "file_extension": ".py",
   "mimetype": "text/x-python",
   "name": "python",
   "nbconvert_exporter": "python",
   "pygments_lexer": "ipython3",
   "version": "3.13.2"
  }
 },
 "nbformat": 4,
 "nbformat_minor": 5
}
